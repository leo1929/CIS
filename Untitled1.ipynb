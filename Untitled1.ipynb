{
  "nbformat": 4,
  "nbformat_minor": 0,
  "metadata": {
    "colab": {
      "name": "Untitled1.ipynb",
      "provenance": [],
      "toc_visible": true,
      "include_colab_link": true
    },
    "kernelspec": {
      "name": "python3",
      "display_name": "Python 3"
    }
  },
  "cells": [
    {
      "cell_type": "markdown",
      "metadata": {
        "id": "view-in-github",
        "colab_type": "text"
      },
      "source": [
        "<a href=\"https://colab.research.google.com/github/leo1929/CIS/blob/master/Untitled1.ipynb\" target=\"_parent\"><img src=\"https://colab.research.google.com/assets/colab-badge.svg\" alt=\"Open In Colab\"/></a>"
      ]
    },
    {
      "cell_type": "markdown",
      "metadata": {
        "id": "-J3qDXeFwvSb",
        "colab_type": "text"
      },
      "source": [
        "# Regresión lineal simple"
      ]
    },
    {
      "cell_type": "code",
      "metadata": {
        "id": "Vsqlhqgww1BG",
        "colab_type": "code",
        "colab": {}
      },
      "source": [
        "import pandas as pd\n",
        "import numpy as np\n",
        "import gspread\n",
        "import matplotlib.pyplot as plt\n",
        "from oauth2client.client import GoogleCredentials \n",
        "from google.colab import auth\n",
        "# Autoriza BETA\n",
        "auth.authenticate_user()\n",
        "gc = gspread.authorize (GoogleCredentials.get_application_default())"
      ],
      "execution_count": 0,
      "outputs": []
    },
    {
      "cell_type": "markdown",
      "metadata": {
        "id": "2xAoqlB_02Do",
        "colab_type": "text"
      },
      "source": [
        "### leemos datos"
      ]
    },
    {
      "cell_type": "code",
      "metadata": {
        "id": "y_VVpj56uzRV",
        "colab_type": "code",
        "outputId": "bf08e350-cd8b-4017-f883-8853483954d2",
        "colab": {
          "base_uri": "https://localhost:8080/",
          "height": 34
        }
      },
      "source": [
        "from google.colab import drive\n",
        "drive.mount('/content/drive')"
      ],
      "execution_count": 0,
      "outputs": [
        {
          "output_type": "stream",
          "text": [
            "Drive already mounted at /content/drive; to attempt to forcibly remount, call drive.mount(\"/content/drive\", force_remount=True).\n"
          ],
          "name": "stdout"
        }
      ]
    },
    {
      "cell_type": "code",
      "metadata": {
        "id": "XXeJWBW6Nhts",
        "colab_type": "code",
        "outputId": "c03b39d8-044e-4678-9e34-b2ae4544ff52",
        "colab": {
          "base_uri": "https://localhost:8080/",
          "height": 134
        }
      },
      "source": [
        ""
      ],
      "execution_count": 0,
      "outputs": [
        {
          "output_type": "stream",
          "text": [
            "\u001b[0m\u001b[01;34mbin\u001b[0m/                                       \u001b[01;34metc\u001b[0m/    \u001b[01;34mopt\u001b[0m/    \u001b[01;34msys\u001b[0m/\n",
            "\u001b[01;34mboot\u001b[0m/                                      \u001b[01;34mhome\u001b[0m/   \u001b[01;34mproc\u001b[0m/   \u001b[01;34mtensorflow-1.15.2\u001b[0m/\n",
            "\u001b[01;34mcontent\u001b[0m/                                   \u001b[01;34mlib\u001b[0m/    \u001b[01;34mroot\u001b[0m/   \u001b[30;42mtmp\u001b[0m/\n",
            "\u001b[01;34mdatalab\u001b[0m/                                   \u001b[01;34mlib32\u001b[0m/  \u001b[01;34mrun\u001b[0m/    \u001b[01;34mtools\u001b[0m/\n",
            "\u001b[01;34mdev\u001b[0m/                                       \u001b[01;34mlib64\u001b[0m/  \u001b[01;34msbin\u001b[0m/   \u001b[01;34musr\u001b[0m/\n",
            "dlib-19.18.0-cp27-cp27mu-linux_x86_64.whl  \u001b[01;34mmedia\u001b[0m/  \u001b[01;34msrv\u001b[0m/    \u001b[01;34mvar\u001b[0m/\n",
            "dlib-19.18.0-cp36-cp36m-linux_x86_64.whl   \u001b[01;34mmnt\u001b[0m/    \u001b[01;34mswift\u001b[0m/\n"
          ],
          "name": "stdout"
        }
      ]
    },
    {
      "cell_type": "code",
      "metadata": {
        "id": "HJpwcES4N4GS",
        "colab_type": "code",
        "outputId": "884eb113-69b9-4261-e4af-4ede245ddccb",
        "colab": {
          "base_uri": "https://localhost:8080/",
          "height": 34
        }
      },
      "source": [
        "cd content/"
      ],
      "execution_count": 0,
      "outputs": [
        {
          "output_type": "stream",
          "text": [
            "/content\n"
          ],
          "name": "stdout"
        }
      ]
    },
    {
      "cell_type": "markdown",
      "metadata": {
        "id": "Cm184TtaN99W",
        "colab_type": "text"
      },
      "source": [
        "# CD me permite entra a una carpeta y desplazarme dentro de ellas y CD .. me deja ir atras de la carpeta"
      ]
    },
    {
      "cell_type": "markdown",
      "metadata": {
        "id": "xhKdwJeX2Qhd",
        "colab_type": "text"
      },
      "source": [
        "# IMPORTANTE !!!!\n",
        "## Hacer un copia de la carpeta CIS en su google drive\n"
      ]
    },
    {
      "cell_type": "code",
      "metadata": {
        "id": "0JYqth2Ty8-k",
        "colab_type": "code",
        "outputId": "83bed775-3641-402b-b5c4-488fa0b0b77e",
        "colab": {
          "base_uri": "https://localhost:8080/",
          "height": 50
        }
      },
      "source": [
        "data1 = pd.read_csv('/content/drive/My Drive/CIS/DATASET/Salary_Data.csv',delimiter=',')\n",
        "X = data1.iloc[:,:-1]\n",
        "Y = data1.iloc[:,1]\n",
        "Y = Y[:, np.newaxis]\n",
        "\n",
        "print(\"X <Años de experiencia> = dimensiones -> \" + str(X.shape))\n",
        "print(\"Y       <Salario>       = dimensiones -> \" + str(Y.shape))"
      ],
      "execution_count": 0,
      "outputs": [
        {
          "output_type": "stream",
          "text": [
            "X <Años de experiencia> = dimensiones -> (30, 1)\n",
            "Y       <Salario>       = dimensiones -> (30, 1)\n"
          ],
          "name": "stdout"
        }
      ]
    },
    {
      "cell_type": "code",
      "metadata": {
        "id": "xZq1KN4y3NGh",
        "colab_type": "code",
        "colab": {}
      },
      "source": [
        "from sklearn.model_selection import train_test_split\n",
        "X_train, X_test, Y_train, Y_test = train_test_split(X,Y,test_size=1/3, random_state=0)\n",
        "\n",
        "# Escalado de variables\n",
        "# en este ejemplo no es necesario lo dejaremos comentariado\n",
        "# from sklearn.preprocessing import StandardScaler\n",
        "# sc_x = StandardScaler()\n",
        "# x_train = sc_x.fit.transform(x_train)\n",
        "# x_test = sc_x.fit.transform(x_test)"
      ],
      "execution_count": 0,
      "outputs": []
    },
    {
      "cell_type": "code",
      "metadata": {
        "id": "hG1WOgWkCQNY",
        "colab_type": "code",
        "colab": {}
      },
      "source": [
        "plt.scatter(X,Y,color='blue', marker='^',alpha=0.5)\n",
        "plt.title(\"Gráfica 1\")\n",
        "plt.xlabel(\"Años de experiencia\")\n",
        "plt.ylabel(\"Salario\")\n",
        "plt.show()"
      ],
      "execution_count": 0,
      "outputs": []
    },
    {
      "cell_type": "code",
      "metadata": {
        "id": "DDEvpDUZDAzf",
        "colab_type": "code",
        "colab": {}
      },
      "source": [
        "f, [ax1, ax2] = plt.subplots(2, 1, sharey=True) \n",
        "ax1.scatter(X_train,Y_train,color='blue', marker='^',alpha=0.5)\n",
        "ax2.scatter(X_test, Y_test ,color='blue', marker='^',alpha=0.5)\n",
        "plt.show()"
      ],
      "execution_count": 0,
      "outputs": []
    },
    {
      "cell_type": "markdown",
      "metadata": {
        "id": "vBnbyngq2LfA",
        "colab_type": "text"
      },
      "source": [
        "### Modelo de regresión lineal simple. \n",
        "### método minimos cuadrados"
      ]
    },
    {
      "cell_type": "code",
      "metadata": {
        "id": "ILktg1Ld8Yuk",
        "colab_type": "code",
        "colab": {}
      },
      "source": [
        "from sklearn.linear_model import LinearRegression\n",
        "regresion = LinearRegression()\n",
        "regresion.fit(X_train,Y_train)"
      ],
      "execution_count": 0,
      "outputs": []
    },
    {
      "cell_type": "markdown",
      "metadata": {
        "id": "q9QzSNcaV7yW",
        "colab_type": "text"
      },
      "source": [
        "### Predecir el conjunto de test"
      ]
    },
    {
      "cell_type": "code",
      "metadata": {
        "id": "HrQmWN6tWAKU",
        "colab_type": "code",
        "colab": {}
      },
      "source": [
        "Y_pred= regresion.predict(X_test)\n",
        "Y_pred"
      ],
      "execution_count": 0,
      "outputs": []
    },
    {
      "cell_type": "markdown",
      "metadata": {
        "id": "P14kIhEnZwG9",
        "colab_type": "text"
      },
      "source": [
        "### Visualizar los resulados del entenamiento"
      ]
    },
    {
      "cell_type": "code",
      "metadata": {
        "id": "TA306Es2plty",
        "colab_type": "code",
        "colab": {}
      },
      "source": [
        "plt.scatter(X_train, Y_train, color=\"red\", marker='^', alpha=0.5)\n",
        "plt.plot(X_train, regresion.predict(X_train), color=\"blue\")\n",
        "plt.title(\"Sueldo vs años de experiencia - Conjunto de entrenamiento\")\n",
        "plt.xlabel (\"Años de experiencia\")\n",
        "plt.ylabel (\"Sueldo $\")\n",
        "plt.show()"
      ],
      "execution_count": 0,
      "outputs": []
    },
    {
      "cell_type": "code",
      "metadata": {
        "id": "ZM4tR4LCt8R7",
        "colab_type": "code",
        "colab": {}
      },
      "source": [
        "plt.scatter(X_test,Y_test,color=\"Green\")\n",
        "plt.scatter(X_test, regresion.predict(X_test),color=\"blue\")\n",
        "plt.title(\"Sueldo vs años de experiencia - Conjunto de entrenamiento\")\n",
        "plt.xlabel (\"Años de experiencia\")\n",
        "plt.ylabel (\"Sueldo $\")\n",
        "plt.show()"
      ],
      "execution_count": 0,
      "outputs": []
    },
    {
      "cell_type": "markdown",
      "metadata": {
        "id": "zXlMvzpxGDpt",
        "colab_type": "text"
      },
      "source": [
        "# Tarea\n",
        "## Regresion polinomica\n",
        "### Investigar regresion polinomica con sklearn y hacer un ejemplo donde se aplique una regresion lineal y polinomica que se ajuste a la tenddencia de la nube de puntos y compare con error la diferencia entre el modelo linea y polinomico."
      ]
    }
  ]
}